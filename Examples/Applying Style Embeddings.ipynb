{
 "cells": [
  {
   "cell_type": "markdown",
   "metadata": {},
   "source": [
    "# Loading Model"
   ]
  },
  {
   "cell_type": "code",
   "execution_count": 1,
   "metadata": {},
   "outputs": [],
   "source": [
    "from sentence_transformers import SentenceTransformer\n",
    "\n",
    "model = SentenceTransformer('AnnaWegmann/Style-Embedding')"
   ]
  },
  {
   "cell_type": "markdown",
   "metadata": {},
   "source": [
    "## Embedding Sentences "
   ]
  },
  {
   "cell_type": "code",
   "execution_count": 2,
   "metadata": {},
   "outputs": [
    {
     "name": "stdout",
     "output_type": "stream",
     "text": [
      "Cosine-Similarity: tensor([[0.0777]])\n",
      "Cosine-Similarity: tensor([[0.7861]])\n",
      "Cosine-Similarity: tensor([[0.6347]])\n",
      "Cosine-Similarity: tensor([[0.2798]])\n"
     ]
    }
   ],
   "source": [
    "from sentence_transformers import util\n",
    "text1 = \"r u a fan of them or something?\"\n",
    "text2 = \"Are you one of their fans?\"\n",
    "text3 = \"Oh yea and that young dr got bad hair\"\n",
    "text4 = \"Oh yea and that young dr got bad hair.\"\n",
    "text5 = \"You do not have the formal perspective\"\n",
    "\n",
    "emb1 = model.encode(text1)  # more informal\n",
    "emb2 = model.encode(text2)  # more formal, similar content to emb1\n",
    "print(\"Cosine-Similarity:\", util.cos_sim(emb1, emb2))\n",
    "emb3 = model.encode(text3)  # more informal, different content to emb1\n",
    "print(\"Cosine-Similarity:\", util.cos_sim(emb1, emb3))\n",
    "emb4 = model.encode(text4)  # more informal, different content to emb1\n",
    "print(\"Cosine-Similarity:\", util.cos_sim(emb1, emb4))\n",
    "emb5 = model.encode(text5)  # more informal, different content to emb1\n",
    "print(\"Cosine-Similarity:\", util.cos_sim(emb1, emb5))"
   ]
  },
  {
   "cell_type": "code",
   "execution_count": 3,
   "metadata": {},
   "outputs": [
    {
     "data": {
      "image/png": "[encoded data removed]",
      "text/plain": [
       "<Figure size 432x288 with 1 Axes>"
      ]
     },
     "metadata": {
      "needs_background": "light"
     },
     "output_type": "display_data"
    }
   ],
   "source": [
    "import matplotlib.pyplot as plt\n",
    "from sklearn.decomposition import PCA\n",
    "pca = PCA()\n",
    "X = [emb1, emb2, emb3, emb4, emb5]\n",
    "y = [1, 2, 1, 1, 2]\n",
    "Xt = pca.fit_transform(X)\n",
    "plot = plt.scatter(Xt[:,0], Xt[:,1], c=y)\n",
    "plt.legend(handles=plot.legend_elements()[0], labels=[\"informal\", \"formal\", \"informal\", \"informal\", \"formal\"])\n",
    "plt.show()"
   ]
  },
  {
   "cell_type": "markdown",
   "metadata": {},
   "source": [
    "## Comparing the Styles of Conversation Partners"
   ]
  },
  {
   "cell_type": "code",
   "execution_count": 13,
   "metadata": {},
   "outputs": [
    {
     "name": "stdout",
     "output_type": "stream",
     "text": [
      "Dataset already exists at /home/anna/.convokit/downloads/conversations-gone-awry-corpus\n"
     ]
    }
   ],
   "source": [
    "from convokit import Corpus, download\n",
    "corpus = Corpus(filename=download(\"conversations-gone-awry-corpus\"))"
   ]
  },
  {
   "cell_type": "code",
   "execution_count": 26,
   "metadata": {},
   "outputs": [
    {
     "name": "stdout",
     "output_type": "stream",
     "text": [
      "445132896.1407.1387: ==Deletion review for [WIKI_LINK: Template:ISO 15924]==\n",
      "\n",
      "    445132896.1428.1387: An editor has asked for a wiki_link of wiki_link. Because you closed the deletion discussion for this page, speedily deleted it, or otherwise were interested in the page, you might want to participate in the deletion review.  (Set of four). \n",
      "        445136152.1545.1545: Now replied. \n",
      "    445235369.1827.1827: You've had thirteen hours to fix the mess you've made. I've asked for help at wiki_link because this is unacceptable. You've found abundant time to justify your actions, but done bubkes to fix the problems you caused. wiki_link \n",
      "        445236032.1935.1935: It's currently night in Ironholds's part of the world; I would assume he's sleeping at the moment, and probably has been for some time. Perhaps you could hold off on being upset that he hasn't answered? \n",
      "            445237741.2020.2020: Vanisaac, I appreciate your additions to the current discussion, but it is not Ironholds any more that can or should close the deletion review. Other admins had better take over. - \n",
      "        445242734.2088.2088: *Holy shit, Vanisac! You mean...you mean that somebody who feels their actions are justified ''doesn't'' spend a shitton of time sorting through what will turn into a wiki_link and wiki_link-related clusterfuck to reverse his own actions in order to shut up one user who keeps pestering and another who has turned up randomly out of the blue? Call the Pope and tell him he's a Catholic. I've spent those 13 hours working, justifying my actions and sleeping respectively - and if you think that somebody who feels justified not reverting his own actions is a problem which justifies ANI when there's already a deletion review underway, read wiki_link. If you have something productive to say you can try to contribute it pleasantly and in a useful fashion; throwing hyperbole and yiddish at me is a waste of time. \n"
     ]
    }
   ],
   "source": [
    "corpus.random_conversation().print_conversation_structure(lambda x: f\"{x.id}: {x.text}\" if x.get_conversation().meta[\"conversation_has_personal_attack\"] else \"\")"
   ]
  },
  {
   "cell_type": "code",
   "execution_count": 28,
   "metadata": {},
   "outputs": [
    {
     "name": "stdout",
     "output_type": "stream",
     "text": [
      "The two texts have an attack True with sim value tensor([[0.9316]])\n",
      "\t text 1: \t No more than two editors advocated deletion.  Greatestrowerever and maybe Kymacpherson.  That's not a clear consensus for deletion.  Cheers, \n",
      "\t text 2: \t In the future please don't close Afds when you don't have the courtesy of reading the comments.  All comments favored deletion except two.  Please don't be so careless in the future. \n",
      "\n",
      "\n",
      "The two texts have an attack False with sim value tensor([[0.4817]])\n",
      "\t text 1: \t Please do not remove sources from articles. Sources don't expire; things like participants in an episode must be sourced. A statement of \"confirmed on air\" is not a source. Please read wiki_link and w\n",
      "\t text 2: \t Not if the episode already aired. Then references are no longer necessary. It's been that way for years on these SNL season pages. - \n",
      "\n",
      "\n",
      "The two texts have an attack True with sim value tensor([[0.3025]])\n",
      "\t text 1: \t Ok now I gotta explain it to you as well. I originally created \"Who is Black\" and someone else changed it to \"definitions of black people\" without an explanation. Still there is no explanation to this\n",
      "\t text 2: \t Just leave it be. \"Definitions of black people\" is a much better title. Go discuss it at the talk page if you wish to change it, again. — \n",
      "\n",
      "\n",
      "The two texts have an attack True with sim value tensor([[0.3525]])\n",
      "\t text 1: \t To quote User:Ryulong, please don't change long-standing passages by complete deletion without discussing it first. These paragraphs have been there for years. I will try to add more of a transition. \n",
      "\t text 2: \t Then add the transition later. These are not \"long-standing passages\". They are two sentences that are either covered in another part of the article (the UNICCO strike is mentioned in another section)\n",
      "\n",
      "\n",
      "The two texts have an attack False with sim value tensor([[0.3308]])\n",
      "\t text 1: \t You currently appear to be engaged in an '''wiki_link'''. Note that the wiki_link prohibits making more than three reversions on a single page within a 24 hour period. Additionally, users who perform \n",
      "\t text 2: \t Instead of warning yourself, why not just not do it in the first place?  I blocked you for 24 hours to stop the edit war and keep that article from needing to , but I'd very much like to just see you \n",
      "\n",
      "\n",
      "The two texts have an attack False with sim value tensor([[0.1035]])\n",
      "\t text 1: \t I've seen people say that his birthdate is in 1969, but I've never seen a site that actually states that in plain terms and he's certainly not open about his personal life. As I previously added on th\n",
      "\t text 2: \t == Birthdate? ==\n",
      "\n",
      "\n",
      "\n",
      "The two texts have an attack False with sim value tensor([[0.3050]])\n",
      "\t text 1: \t Your message on my talk page. Please stop making POV edits to the article by removing valid views and information that - violates wiki_link. I also suggest you discuss changes on the articles talk pag\n",
      "\t text 2: \t There wasn't anything uncivil about what I wrote, what's uncivil is dismissing it out of hand. Regardless, the content that you restored is still not backed by the sources. \n",
      "\n",
      "\n",
      "The two texts have an attack False with sim value tensor([[0.2521]])\n",
      "\t text 1: \t I don't want to have to fill out all the forms in triplicate so could you blacklist uniteagainstfascism.org.uk please? It's a spoof website (the real one is at [EXTERNA_LINK: http://www.uaf.org.uk/]) \n",
      "\t text 2: \t * It's not currently linked anywhere. What's the issue?  () \n",
      "\n",
      "\n",
      "The two texts have an attack True with sim value tensor([[0.4203]])\n",
      "\t text 1: \t  Tactics such as strategic 3RR maneuvering are well-recognized on Wikipedia, and you'll be at the same count as me should you keep this up.\n",
      "\t text 2: \t  I am 100% confident that I will not be blocked for violating the three revert rule. I am 100% confident that you may be. Also, given that you are a new user who focuses your edits on just a few POV l\n",
      "\n",
      "\n",
      "The two texts have an attack True with sim value tensor([[0.4246]])\n",
      "\t text 1: \t  O Fenian, I have unblocked you because my review concludes that the admin was in serious error in sanctioning you further after what I also perceive to be an ill advised warning - however, I would pr\n",
      "\t text 2: \t  I have left some comments external_link, I have nothing more to say at this time about these incidents, probably for the next 24 hours to allow sufficient cooling off time.\n",
      "\n",
      "\n",
      "The two texts have an attack True with sim value tensor([[0.5372]])\n",
      "\t text 1: \t  As stated in my edit summaries. wiki_link does not apply in wiki_link violations.\n",
      "\t text 2: \t  Your hystrionics aside, there was no blp violation. So you clearly broke 3rr. You're just lucky the page was protected.\n",
      "\n",
      "\n",
      "The two texts have an attack True with sim value tensor([[0.7484]])\n",
      "\t text 1: \t  What is your problem with Macedonian Slavic? This is the language which these people speak, not some pseudo-language known as \"local Slavic\".\n",
      "\t text 2: \t  What's the difference? Both are merely geographic qualifiers. Local Slavic simply means the Slavic dialect peculiar to that part of Macedonia. ··\n",
      "\n",
      "\n",
      "The two texts have an attack False with sim value tensor([[0.6707]])\n",
      "\t text 1: \t  Dukemon uncovered the new toyline, with a the final form for Den-O revealed.\n",
      "* external_link\n",
      "** DX Denkame-Sword: Heavy Rotation Blade used by Liner Form (October)\n",
      "* Zeronos Zero Form (November)\n",
      "* DX\n",
      "\t text 2: \t  Right now, Liner Form is all that's confirmed.—\n",
      "\n",
      "\n",
      "The two texts have an attack True with sim value tensor([[0.5244]])\n",
      "\t text 1: \t  Um...did you even bother to read the article before you deleted it? (I've seen delete-happy admins before, but this is ridiculous.)\n",
      "And, yes, \"Ready 'N Steady\" is significant, in my view. It's the on\n",
      "\t text 2: \t  Sure I read it, and determined that it met the wiki_link criteria, since the artist in question doesn't have an article, and the deleted article itself even stated the recording itself is not known t\n",
      "\n",
      "\n",
      "The two texts have an attack False with sim value tensor([[0.7592]])\n",
      "\t text 1: \t  May I ask what you're trying to accomplish with these templates? I find that they have extremely limited use (only 2 or 3 pages) and they make it difficult for editors to change information in them.\n",
      "\t text 2: \t  Technically, the templates allow uniformity on the Trinity Blood'' pages (if you edit one the edit appears on all the pages, not just one), and they are quite easy to edit actually. wiki_link has an \n",
      "\n",
      "\n",
      "The two texts have an attack True with sim value tensor([[0.7391]])\n",
      "\t text 1: \t  Since you are apparently both unrepentant and unable to see that there are two sides to your dispute with Jimfbleak - to say nothing of being distinctly aggressive - I have blocked you for 24 hours f\n",
      "\t text 2: \t  You're making things up as you go along.  external_link  Now you're claiming that I refuse to see that there are two sides in my dispute with , despite the fact that I repeated asked him for his metr\n",
      "\n",
      "\n",
      "The two texts have an attack False with sim value tensor([[0.1094]])\n",
      "\t text 1: \t  external_link -\n",
      "\t text 2: \t  Probably should have assumed good faith, but look at the other contributions. I don't think running around and capitalizing common nouns is very constructive.\n",
      "\n",
      "\n",
      "The two texts have an attack True with sim value tensor([[0.5963]])\n",
      "\t text 1: \t  Are you beginning to see precisely'' what my issue is with him?\n",
      "\t text 2: \t  I really prefer to keep conversations together....\n",
      ":I'm saying that I sympathize. By the time I got involved nobody was talking to anyone, and that is frustrating. I'd prefer to remain unspecific, as\n",
      "\n",
      "\n",
      "The two texts have an attack False with sim value tensor([[0.1485]])\n",
      "\t text 1: \t  Thanks to external_link and external_link\n",
      "I have a somewhat better understanding of the administrator's role in closing {afd}s.\n",
      "It is not a vote, it is a seeking for consensus; the admin is authorize\n",
      "\t text 2: \t \n",
      "== deletion review... ==\n",
      "\n",
      "\n",
      "Mean style sim score attack: tensor([[0.1529]])\n",
      "Mean style sim score not attack: tensor([[0.2542]])\n"
     ]
    }
   ],
   "source": [
    "import random\n",
    "random.seed(42)\n",
    "nbr_att = 0\n",
    "nbr_natt = 0\n",
    "first_sim_score_att = 0\n",
    "first_sim_score_natt = 0\n",
    "\n",
    "for i, conv in enumerate(corpus.iter_conversations(lambda x: len(x.get_speaker_ids()) == 2 and x.meta['verified'])):\n",
    "#     if i > 1000:\n",
    "#         break\n",
    "    has_attack = conv.meta['conversation_has_personal_attack']    \n",
    "    utts = conv.get_chronological_utterance_list()\n",
    "    sim_score = util.cos_sim(model.encode(utts[0].text), model.encode(utts[1].text))\n",
    "    if has_attack:\n",
    "        nbr_att += 1\n",
    "        first_sim_score_att += sim_score\n",
    "    else:\n",
    "        nbr_natt += 1\n",
    "        first_sim_score_natt += sim_score\n",
    "    if sim_score > 0 and random.random() < 0.04:\n",
    "        print(f\"The two texts have an attack {has_attack} with sim value {sim_score}\")\n",
    "        print(f\"\\t text 1: \\t {utts[0].text[:200]}\")\n",
    "        print(f\"\\t text 2: \\t {utts[1].text[:200]}\")\n",
    "        print(\"\\n\")\n",
    "        \n",
    "print(f\"Mean style sim score attack: {first_sim_score_att/nbr_att}\")\n",
    "print(f\"Mean style sim score not attack: {first_sim_score_natt/nbr_natt}\")"
   ]
  },
  {
   "cell_type": "code",
   "execution_count": null,
   "metadata": {},
   "outputs": [],
   "source": []
  }
 ],
 "metadata": {
  "kernelspec": {
   "display_name": "Python 3",
   "language": "python",
   "name": "python3"
  },
  "language_info": {
   "codemirror_mode": {
    "name": "ipython",
    "version": 3
   },
   "file_extension": ".py",
   "mimetype": "text/x-python",
   "name": "python",
   "nbconvert_exporter": "python",
   "pygments_lexer": "ipython3",
   "version": "3.8.5"
  }
 },
 "nbformat": 4,
 "nbformat_minor": 4
}
