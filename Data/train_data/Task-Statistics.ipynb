{
 "cells": [
  {
   "cell_type": "code",
   "execution_count": 1,
   "metadata": {},
   "outputs": [],
   "source": [
    "import pandas as pd"
   ]
  },
  {
   "cell_type": "code",
   "execution_count": 6,
   "metadata": {},
   "outputs": [],
   "source": [
    "# Column names for Training tasks\n",
    "SAME_AUTHOR_AU1_COL = 'Same Author Label'  # label is 1 if A and U1 are written by the same author, 0 otherwise\n",
    "SUBREDDIT_U2_COL = 'Subreddit U2'\n",
    "SUBREDDIT_U1_COL = 'Subreddit U1'\n",
    "SUBREDDIT_A_COL = 'Subreddit A'\n",
    "CONVERSATION_U2_COL = 'Conversation ID U2'\n",
    "CONVERSATION_U1_COL = 'Conversation ID U1'\n",
    "CONVERSATION_A_COL = 'Conversation ID A'\n",
    "ID_U2_COL = 'ID U2'\n",
    "ID_U1_COL = 'ID U1'\n",
    "ID_A_COL = 'Utterance ID A'\n",
    "AUTHOR_U2_COL = 'Author U2'\n",
    "AUTHOR_U1_COL = 'Author U1'\n",
    "AUTHOR_A_COL = 'Author A'\n",
    "U2_COL = 'Utterance 2 (U2)'\n",
    "U1_COL = 'Utterance 1 (U1)'\n",
    "ANCHOR_COL = 'Anchor (A)'"
   ]
  },
  {
   "cell_type": "code",
   "execution_count": 41,
   "metadata": {},
   "outputs": [],
   "source": [
    "dev_conv = \"dev-45000__subreddits-100-2018_tasks-300000__topic-variable-conversation.tsv\"\n",
    "dev_rand = \"dev-45000__subreddits-100-2018_tasks-300000__topic-variable-random.tsv\"\n",
    "dev_sub = \"dev-45000__subreddits-100-2018_tasks-300000__topic-variable-subreddit.tsv\"\n",
    "test_conv = \"test-45000__subreddits-100-2018_tasks-300000__topic-variable-conversation.tsv\"\n",
    "test_rand = \"test-45000__subreddits-100-2018_tasks-300000__topic-variable-subreddit.tsv\"\n",
    "test_sub = \"dev-45000__subreddits-100-2018_tasks-300000__topic-variable-subreddit.tsv\"\n",
    "train_conv = \"train-210000__subreddits-100-2018_tasks-300000__topic-variable-conversation.tsv\"\n",
    "train_rand = \"train-210000__subreddits-100-2018_tasks-300000__topic-variable-random.tsv\"\n",
    "train_sub = \"train-210000__subreddits-100-2018_tasks-300000__topic-variable-subreddit.tsv\""
   ]
  },
  {
   "cell_type": "code",
   "execution_count": 28,
   "metadata": {},
   "outputs": [],
   "source": [
    "# statistics\n",
    "def get_recurring_pair_statistics(filename):\n",
    "    # Number of re-curring AV-pairs --> either (A1, A2) or (A1, B) -- where (A1, B) should not recurr\n",
    "    df = pd.read_csv(filename, sep='\\t')\n",
    "    \n",
    "    # collect all pairs\n",
    "    pairs = []\n",
    "    for idr, row in df.iterrows():\n",
    "        pairs.append({row[ID_A_COL], row[ID_U1_COL]})\n",
    "        pairs.append({row[ID_A_COL], row[ID_U2_COL]})\n",
    "        \n",
    "    from collections import Counter\n",
    "    return Counter(Counter(tuple(pair) for pair in pairs).values())\n",
    "\n",
    "# count_dict = Counter(tuple(pair) for pair in pairs)\n",
    "# list(count_dict.keys())[list(count_dict.values()).index(4)]"
   ]
  },
  {
   "cell_type": "code",
   "execution_count": null,
   "metadata": {},
   "outputs": [],
   "source": []
  },
  {
   "cell_type": "code",
   "execution_count": 29,
   "metadata": {},
   "outputs": [
    {
     "data": {
      "text/plain": [
       "Counter({1: 88090, 2: 941, 3: 8, 4: 1})"
      ]
     },
     "execution_count": 29,
     "metadata": {},
     "output_type": "execute_result"
    }
   ],
   "source": [
    "get_recurring_pair_statistics(dev_conv) # --> 3 & 4 must be a result of noise ??"
   ]
  },
  {
   "cell_type": "code",
   "execution_count": 42,
   "metadata": {},
   "outputs": [
    {
     "data": {
      "text/plain": [
       "Counter({1: 88906, 2: 547})"
      ]
     },
     "execution_count": 42,
     "metadata": {},
     "output_type": "execute_result"
    }
   ],
   "source": [
    "get_recurring_pair_statistics(dev_rand)"
   ]
  },
  {
   "cell_type": "code",
   "execution_count": 44,
   "metadata": {},
   "outputs": [
    {
     "data": {
      "text/plain": [
       "Counter({1: 88904, 2: 548})"
      ]
     },
     "execution_count": 44,
     "metadata": {},
     "output_type": "execute_result"
    }
   ],
   "source": [
    "get_recurring_pair_statistics(dev_sub)"
   ]
  },
  {
   "cell_type": "code",
   "execution_count": 48,
   "metadata": {},
   "outputs": [
    {
     "data": {
      "text/plain": [
       "Counter({1: 88149, 2: 903, 3: 15})"
      ]
     },
     "execution_count": 48,
     "metadata": {},
     "output_type": "execute_result"
    }
   ],
   "source": [
    "get_recurring_pair_statistics(test_conv)"
   ]
  },
  {
   "cell_type": "code",
   "execution_count": 49,
   "metadata": {},
   "outputs": [
    {
     "data": {
      "text/plain": [
       "Counter({1: 88932, 2: 534})"
      ]
     },
     "execution_count": 49,
     "metadata": {},
     "output_type": "execute_result"
    }
   ],
   "source": [
    "get_recurring_pair_statistics(test_rand)"
   ]
  },
  {
   "cell_type": "code",
   "execution_count": 50,
   "metadata": {},
   "outputs": [
    {
     "data": {
      "text/plain": [
       "Counter({1: 88904, 2: 548})"
      ]
     },
     "execution_count": 50,
     "metadata": {},
     "output_type": "execute_result"
    }
   ],
   "source": [
    "get_recurring_pair_statistics(test_sub)"
   ]
  },
  {
   "cell_type": "code",
   "execution_count": 45,
   "metadata": {},
   "outputs": [
    {
     "data": {
      "text/plain": [
       "Counter({2: 2973, 1: 414027, 3: 9})"
      ]
     },
     "execution_count": 45,
     "metadata": {},
     "output_type": "execute_result"
    }
   ],
   "source": [
    "get_recurring_pair_statistics(train_conv)"
   ]
  },
  {
   "cell_type": "code",
   "execution_count": 46,
   "metadata": {},
   "outputs": [
    {
     "data": {
      "text/plain": [
       "Counter({1: 414974, 2: 2513})"
      ]
     },
     "execution_count": 46,
     "metadata": {},
     "output_type": "execute_result"
    }
   ],
   "source": [
    "get_recurring_pair_statistics(train_rand)"
   ]
  },
  {
   "cell_type": "code",
   "execution_count": 47,
   "metadata": {},
   "outputs": [
    {
     "data": {
      "text/plain": [
       "Counter({1: 414972, 2: 2514})"
      ]
     },
     "execution_count": 47,
     "metadata": {},
     "output_type": "execute_result"
    }
   ],
   "source": [
    "get_recurring_pair_statistics(train_sub)"
   ]
  },
  {
   "cell_type": "code",
   "execution_count": null,
   "metadata": {},
   "outputs": [],
   "source": []
  }
 ],
 "metadata": {
  "kernelspec": {
   "display_name": "Python 3",
   "language": "python",
   "name": "python3"
  },
  "language_info": {
   "codemirror_mode": {
    "name": "ipython",
    "version": 3
   },
   "file_extension": ".py",
   "mimetype": "text/x-python",
   "name": "python",
   "nbconvert_exporter": "python",
   "pygments_lexer": "ipython3",
   "version": "3.8.5"
  }
 },
 "nbformat": 4,
 "nbformat_minor": 4
}
